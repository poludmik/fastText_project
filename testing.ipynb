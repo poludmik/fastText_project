{
 "cells": [
  {
   "cell_type": "code",
   "execution_count": 8,
   "outputs": [
    {
     "name": "stdout",
     "output_type": "stream",
     "text": [
      "The autoreload extension is already loaded. To reload it, use:\n",
      "  %reload_ext autoreload\n"
     ]
    }
   ],
   "source": [
    "from vec_math import *\n",
    "\n",
    "%load_ext autoreload\n",
    "%autoreload 2"
   ],
   "metadata": {
    "collapsed": false,
    "ExecuteTime": {
     "end_time": "2023-06-27T17:41:19.516919900Z",
     "start_time": "2023-06-27T17:41:19.481390400Z"
    }
   }
  },
  {
   "cell_type": "markdown",
   "source": [
    "# English tests"
   ],
   "metadata": {
    "collapsed": false
   }
  },
  {
   "cell_type": "code",
   "execution_count": 23,
   "outputs": [
    {
     "name": "stdout",
     "output_type": "stream",
     "text": [
      "(100,)\n",
      "[(0.8522698879241943, 'megadeth'), (0.7971707582473755, 'pantera'), (0.7917349934577942, 'deftones'), (0.7859595417976379, 'frontman'), (0.7821397185325623, 'mustaine'), (0.7773374915122986, 'sepultura'), (0.7772756218910217, 'hetfield'), (0.7724277377128601, 'radiohead'), (0.7667999863624573, 'ozzy'), (0.7642661333084106, 'band')]\n",
      "\n",
      "scipy cosine: 0.40885651111602783\n",
      "numpy cosine: 0.40885654\n"
     ]
    },
    {
     "name": "stderr",
     "output_type": "stream",
     "text": [
      "Warning : `load_model` does not return WordVectorModel or SupervisedModel any more, but a `FastText` object which is very similar.\n"
     ]
    }
   ],
   "source": [
    "# model = fasttext.train_unsupervised('../data/fil9')\n",
    "# model = fasttext.train_unsupervised('data/fil9', minn=2, maxn=5, dim=300)\n",
    "# model.save_model(\"models/fil9.bin\")\n",
    "\n",
    "model = fasttext.load_model(\"models/fil9.bin\")\n",
    "\n",
    "x = \"metallica\"\n",
    "y = \"abba\"\n",
    "vec1 = model.get_word_vector(x)\n",
    "vec2 = model.get_word_vector(y)\n",
    "\n",
    "print(vec1.shape)\n",
    "print(model.get_nearest_neighbors(x), end=\"\\n\\n\")\n",
    "\n",
    "# print(model.get_analogies(\"berlin\", \"germany\", \"czechia\"))\n",
    "\n",
    "print(\"scipy cosine:\", cosine_sim_scipy(vec1, vec2))\n",
    "print(\"numpy cosine:\", cosine_sim_numpy(vec1, vec2))"
   ],
   "metadata": {
    "collapsed": false,
    "ExecuteTime": {
     "end_time": "2023-06-27T16:16:07.857860500Z",
     "start_time": "2023-06-27T16:16:07.844762600Z"
    }
   }
  },
  {
   "cell_type": "markdown",
   "source": [
    "# Czech tests"
   ],
   "metadata": {
    "collapsed": false
   }
  },
  {
   "cell_type": "code",
   "execution_count": 10,
   "outputs": [
    {
     "name": "stderr",
     "output_type": "stream",
     "text": [
      "Warning : `load_model` does not return WordVectorModel or SupervisedModel any more, but a `FastText` object which is very similar.\n"
     ]
    }
   ],
   "source": [
    "model = fasttext.load_model('models/cc.cs.300.bin')"
   ],
   "metadata": {
    "collapsed": false,
    "ExecuteTime": {
     "end_time": "2023-06-27T17:41:50.021209600Z",
     "start_time": "2023-06-27T17:41:29.983852100Z"
    }
   }
  },
  {
   "cell_type": "code",
   "execution_count": 4,
   "outputs": [
    {
     "name": "stdout",
     "output_type": "stream",
     "text": [
      "(300,)\n"
     ]
    }
   ],
   "source": [
    "print(model.get_word_vector(\"univerzita\").shape)"
   ],
   "metadata": {
    "collapsed": false,
    "ExecuteTime": {
     "end_time": "2023-06-27T16:22:57.906188500Z",
     "start_time": "2023-06-27T16:22:57.745353Z"
    }
   }
  },
  {
   "cell_type": "markdown",
   "source": [
    "## get_sentence_vector() vs average of word embeddings"
   ],
   "metadata": {
    "collapsed": false
   }
  },
  {
   "cell_type": "code",
   "execution_count": 37,
   "outputs": [],
   "source": [
    "sent1 = \"Main purpose of this thesis is to show the functionality.\"\n",
    "sent2_similar = \"The primary objective of a publication was to demonstrate the performance.\"\n",
    "sent3_different = \"Another problem with this configuration was to Cook some delicious dinner!\"\n",
    "sent4_absurd = \"Amidst the lush jungle, a majestic tiger stealthily prowled through the undergrowth.\""
   ],
   "metadata": {
    "collapsed": false,
    "ExecuteTime": {
     "end_time": "2023-06-27T16:35:10.759368700Z",
     "start_time": "2023-06-27T16:35:10.701480500Z"
    }
   }
  },
  {
   "cell_type": "code",
   "execution_count": 60,
   "outputs": [
    {
     "name": "stdout",
     "output_type": "stream",
     "text": [
      "Similar: 0.867\n",
      "Different: 0.796\n",
      "Absurd: 0.695\n"
     ]
    }
   ],
   "source": [
    "# with fasttext.get_sentence_vector()\n",
    "similarity12 = cosine_sim_scipy(model.get_sentence_vector(sent1), model.get_sentence_vector(sent2_similar))\n",
    "similarity13 = cosine_sim_scipy(model.get_sentence_vector(sent1), model.get_sentence_vector(sent3_different))\n",
    "similarity14 = cosine_sim_scipy(model.get_sentence_vector(sent1), model.get_sentence_vector(sent4_absurd))\n",
    "\n",
    "print(\"Similar:\", round(similarity12, 3))\n",
    "print(\"Different:\", round(similarity13, 3))\n",
    "print(\"Absurd:\", round(similarity14, 3))"
   ],
   "metadata": {
    "collapsed": false,
    "ExecuteTime": {
     "end_time": "2023-06-27T16:43:09.585484700Z",
     "start_time": "2023-06-27T16:43:09.532498300Z"
    }
   }
  },
  {
   "cell_type": "code",
   "execution_count": 62,
   "outputs": [
    {
     "name": "stdout",
     "output_type": "stream",
     "text": [
      "Similar: 0.922\n",
      "Different: 0.798\n",
      "Absurd: 0.769\n"
     ]
    }
   ],
   "source": [
    "# just take the average of word embeddings\n",
    "similarity12 = cosine_sim_scipy(get_average_vector(model, sent1), get_average_vector(model, sent2_similar))\n",
    "similarity13 = cosine_sim_scipy(get_average_vector(model, sent1), get_average_vector(model, sent3_different))\n",
    "similarity14 = cosine_sim_scipy(get_average_vector(model, sent1), get_average_vector(model, sent4_absurd))\n",
    "\n",
    "print(\"Similar:\", round(similarity12, 3))\n",
    "print(\"Different:\", round(similarity13, 3))\n",
    "print(\"Absurd:\", round(similarity14, 3))"
   ],
   "metadata": {
    "collapsed": false,
    "ExecuteTime": {
     "end_time": "2023-06-27T16:43:16.603280100Z",
     "start_time": "2023-06-27T16:43:16.557314100Z"
    }
   }
  },
  {
   "cell_type": "markdown",
   "source": [
    "## Testovácí otázky"
   ],
   "metadata": {
    "collapsed": false
   }
  },
  {
   "cell_type": "code",
   "execution_count": 6,
   "outputs": [
    {
     "name": "stdout",
     "output_type": "stream",
     "text": [
      "     Unnamed: 0                                           question  class\n",
      "0             0                          Co je duševní vlastnictví      0\n",
      "1             1                     Co známená duševní vlastnictví      0\n",
      "2             2                             Duševní vlastnictví je      0\n",
      "3             3                     Definice duševního vlastnictví      0\n",
      "4             4                  Jak definovat duševní vlastnictví      0\n",
      "..          ...                                                ...    ...\n",
      "557         557      Doba řízení národní přihlášky ochranné známky     48\n",
      "558         558  V jakém časovém horizontu po registraci ochran...     48\n",
      "559         559  Za jak dlouho bude národní ochranná známka zar...     48\n",
      "560         560     Uplynutí doby platnosti zápisu ochranné známky     49\n",
      "561         561  Upozorňuje Úřad na uplynutí doby platnosti záp...     49\n",
      "\n",
      "[562 rows x 3 columns]\n"
     ]
    }
   ],
   "source": [
    "df = pd.read_excel(\"../data/Q50_questions.xlsx\")\n",
    "print(df)"
   ],
   "metadata": {
    "collapsed": false,
    "ExecuteTime": {
     "end_time": "2023-06-27T17:31:22.738746200Z",
     "start_time": "2023-06-27T17:31:22.646341400Z"
    }
   }
  },
  {
   "cell_type": "code",
   "execution_count": 25,
   "outputs": [
    {
     "name": "stdout",
     "output_type": "stream",
     "text": [
      "(33, 'Kdo provádí oceňování vynálezů')\n"
     ]
    }
   ],
   "source": [
    "sent = \"Kdo provádí výběr výroků\" # class 33\n",
    "print(classify_one_sentence(df, model, sent))"
   ],
   "metadata": {
    "collapsed": false,
    "ExecuteTime": {
     "end_time": "2023-06-27T17:52:23.256214900Z",
     "start_time": "2023-06-27T17:52:23.077532800Z"
    }
   }
  },
  {
   "cell_type": "code",
   "execution_count": null,
   "outputs": [],
   "source": [],
   "metadata": {
    "collapsed": false
   }
  }
 ],
 "metadata": {
  "kernelspec": {
   "display_name": "Python 3",
   "language": "python",
   "name": "python3"
  },
  "language_info": {
   "codemirror_mode": {
    "name": "ipython",
    "version": 2
   },
   "file_extension": ".py",
   "mimetype": "text/x-python",
   "name": "python",
   "nbconvert_exporter": "python",
   "pygments_lexer": "ipython2",
   "version": "2.7.6"
  }
 },
 "nbformat": 4,
 "nbformat_minor": 0
}
