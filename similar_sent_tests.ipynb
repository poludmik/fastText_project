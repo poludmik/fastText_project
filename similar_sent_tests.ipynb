{
 "cells": [
  {
   "cell_type": "code",
   "execution_count": 1,
   "metadata": {},
   "outputs": [],
   "source": [
    "import fasttext\n",
    "import json\n",
    "import os\n",
    "from faq50_adapted import FAQ_adapted, extract_word_probs\n",
    "%load_ext autoreload\n",
    "%autoreload 2"
   ]
  },
  {
   "cell_type": "code",
   "execution_count": 2,
   "metadata": {},
   "outputs": [
    {
     "name": "stderr",
     "output_type": "stream",
     "text": [
      "Warning : `load_model` does not return WordVectorModel or SupervisedModel any more, but a `FastText` object which is very similar.\n"
     ]
    }
   ],
   "source": [
    "model_path = \"upv_search/cbow_300_ns10_800k_ccfin_ep10.bin\"\n",
    "probs_path = \"upv_search/cbow_300_ns10_800k_ccfin_ep10_probs.json\"\n",
    "# model_path = \"models/cc.cs.300.bin\"\n",
    "# probs_path = \"models/cc.cs.300_probs.json\"\n",
    "\n",
    "# extract_word_probs(model_path, corpus_size=13.2e9) # run only once to save time\n",
    "\n",
    "with open(probs_path, \"r\") as wp_file:\n",
    "    probs = json.load(wp_file)\n",
    "\n",
    "model = fasttext.load_model(model_path)\n",
    "\n",
    "questions_xlsx = \"780_upv_questions/expanded_data_all2.xlsx\"\n",
    "answers_xlsx = \"780_upv_questions/expanded_data_all2_answers.xlsx\"\n",
    "\n",
    "faq = FAQ_adapted(model, questions_xlsx, answers_xlsx, probs=probs, \n",
    "                                        compressed=False, alpha=1e-2)"
   ]
  },
  {
   "cell_type": "code",
   "execution_count": 3,
   "metadata": {},
   "outputs": [],
   "source": [
    "# faq.total_confusion()"
   ]
  },
  {
   "cell_type": "code",
   "execution_count": 4,
   "metadata": {},
   "outputs": [
    {
     "name": "stdout",
     "output_type": "stream",
     "text": [
      "(788, 300)\n",
      "(79, 300)\n",
      "(788, 79)\n",
      "\n",
      "Question Mean-Match Accuracy: 0.5977157360406091\n",
      "\n",
      "Question Cross-Match Accuracy: 0.39720812182741116\n"
     ]
    }
   ],
   "source": [
    "acc, cm = faq.mean_match_test()\n",
    "print(f\"\\nQuestion Mean-Match Accuracy: {acc}\")\n",
    "\n",
    "acc, cm = faq.cross_match_test()\n",
    "print(f\"\\nQuestion Cross-Match Accuracy: {acc}\")"
   ]
  },
  {
   "cell_type": "code",
   "execution_count": 5,
   "metadata": {},
   "outputs": [
    {
     "data": {
      "text/plain": [
       "{'Jaké jsou možnosti podání přihlášky průmyslového vzoru? ': ['51', '49'],\n",
       " 'Kdo může podat přihlášku průmyslového vzoru?': ['52', '49'],\n",
       " 'Kdo může podat přihlášku užitného vzoru?': ['61', '59'],\n",
       " 'Jak mohu objednat rešeršní služby Úřadu?': ['65', '45'],\n",
       " 'Jak dlouho trvá zpracování rešerše?': ['65', '45', '74'],\n",
       " 'Co znamená kvalifikované zveřejnění technického řešení?': ['68', '58']}"
      ]
     },
     "execution_count": 5,
     "metadata": {},
     "output_type": "execute_result"
    }
   ],
   "source": [
    "# Ambiguous matches\n",
    "path_to_save = \"780_upv_questions/same_question_different_answers.json\"\n",
    "faq.get_same_question_different_answer_pairs(save_path=path_to_save)"
   ]
  },
  {
   "cell_type": "code",
   "execution_count": 38,
   "metadata": {},
   "outputs": [
    {
     "name": "stdout",
     "output_type": "stream",
     "text": [
      "(788, 79)\n",
      "(788,)\n",
      "40     Kde najdu právní předpisy týkající se ochrany ...\n",
      "41     Na jaké stránce jsou uvedeny nejdůležitější pr...\n",
      "42     Jaké právní předpisy jsou dostupné na stránkác...\n",
      "44     Mohu na stránkách Úřadu průmyslového vlastnict...\n",
      "45     Jaké informace poskytuje Úřad průmyslového vla...\n",
      "46     Jaké konkrétní právní předpisy Úřad průmyslové...\n",
      "48     Jsou na stránkách Úřadu průmyslového vlastnict...\n",
      "399    Kde mohu najít právní předpisy týkající se pop...\n",
      "400    Jaké jsou nejdůležitější právní předpisy týkaj...\n",
      "402    Jaké předpisy se týkají poplatků na Úřadu prům...\n",
      "403    Kde najdu předpisy týkající se poplatků při ří...\n",
      "405    Jaké jsou zákony o poplatcích pro Úřad průmysl...\n",
      "407    Jaké právní předpisy upravují poplatky na Úřad...\n",
      "645    Jaké jsou podmínky přijímání dokumentů na Úřad...\n",
      "Name: question, dtype: object\n"
     ]
    }
   ],
   "source": [
    "faq.get_most_confused_questions(cos_sim_threshold=0.85) # with mean-match"
   ]
  },
  {
   "cell_type": "code",
   "execution_count": 89,
   "metadata": {},
   "outputs": [
    {
     "name": "stdout",
     "output_type": "stream",
     "text": [
      "(3, 4) 3\n",
      "(11, 4) 5\n",
      "(15, 78) 3\n",
      "(15, 25) 3\n",
      "(19, 78) 3\n",
      "(22, 25) 4\n",
      "(29, 78) 3\n",
      "(30, 55) 3\n",
      "(31, 69) 3\n",
      "(36, 57) 4\n",
      "(45, 55) 3\n",
      "(50, 4) 3\n",
      "(56, 78) 3\n",
      "(58, 68) 3\n",
      "(64, 4) 4\n",
      "(65, 55) 3\n",
      "(77, 4) 3\n",
      "[('3', '4'), ('11', '4'), ('15', '78'), ('15', '25'), ('19', '78'), ('22', '25'), ('29', '78'), ('30', '55'), ('31', '69'), ('36', '57'), ('45', '55'), ('50', '4'), ('56', '78'), ('58', '68'), ('64', '4'), ('65', '55'), ('77', '4')]\n"
     ]
    }
   ],
   "source": [
    "path_to_save = \"780_upv_questions/most_missclassified_class_pairs\"\n",
    "faq.get_most_misclassified_class_pairs(n_of_common_misses=3, save_path=path_to_save)"
   ]
  }
 ],
 "metadata": {
  "kernelspec": {
   "display_name": "my_src",
   "language": "python",
   "name": "python3"
  },
  "language_info": {
   "codemirror_mode": {
    "name": "ipython",
    "version": 3
   },
   "file_extension": ".py",
   "mimetype": "text/x-python",
   "name": "python",
   "nbconvert_exporter": "python",
   "pygments_lexer": "ipython3",
   "version": "3.10.6"
  },
  "orig_nbformat": 4
 },
 "nbformat": 4,
 "nbformat_minor": 2
}
