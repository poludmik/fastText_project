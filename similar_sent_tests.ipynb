{
 "cells": [
  {
   "cell_type": "code",
   "execution_count": 9,
   "metadata": {},
   "outputs": [
    {
     "name": "stdout",
     "output_type": "stream",
     "text": [
      "The autoreload extension is already loaded. To reload it, use:\n",
      "  %reload_ext autoreload\n"
     ]
    }
   ],
   "source": [
    "import fasttext\n",
    "import json\n",
    "import os\n",
    "from faq50_adapted import FAQ_adapted, extract_word_probs\n",
    "from tfidf_classifier import TFIDF_Classifier\n",
    "%load_ext autoreload\n",
    "%autoreload 2"
   ]
  },
  {
   "cell_type": "code",
   "execution_count": 2,
   "metadata": {},
   "outputs": [
    {
     "name": "stderr",
     "output_type": "stream",
     "text": [
      "Warning : `load_model` does not return WordVectorModel or SupervisedModel any more, but a `FastText` object which is very similar.\n"
     ]
    }
   ],
   "source": [
    "# model_path = \"upv_search/cbow_300_ns10_800k_ccfin_ep10.bin\"\n",
    "# probs_path = \"upv_search/cbow_300_ns10_800k_ccfin_ep10_probs.json\"\n",
    "model_path = \"models/cc.cs.300.bin\"\n",
    "probs_path = \"models/cc.cs.300_probs.json\"\n",
    "\n",
    "# extract_word_probs(model_path, corpus_size=13.2e9) # run only once to save time\n",
    "\n",
    "with open(probs_path, \"r\") as wp_file:\n",
    "    probs = json.load(wp_file)\n",
    "\n",
    "model = fasttext.load_model(model_path)\n",
    "\n",
    "questions_xlsx = \"780_upv_questions/expanded_data_all2.xlsx\"\n",
    "answers_xlsx = \"780_upv_questions/expanded_data_all2_answers.xlsx\"\n",
    "\n",
    "faq = FAQ_adapted(model, questions_xlsx, answers_xlsx, probs=probs, \n",
    "                                        compressed=False, alpha=1e-2)"
   ]
  },
  {
   "cell_type": "code",
   "execution_count": 3,
   "metadata": {},
   "outputs": [],
   "source": [
    "# faq.total_confusion()"
   ]
  },
  {
   "cell_type": "code",
   "execution_count": 4,
   "metadata": {},
   "outputs": [
    {
     "name": "stdout",
     "output_type": "stream",
     "text": [
      "(79, 300)\n",
      "\n",
      "Question Mean-Match Accuracy: 0.6598984771573604\n",
      "\n",
      "Question Cross-Match Accuracy: 0.4073604060913706\n"
     ]
    }
   ],
   "source": [
    "acc, cm = faq.mean_match_test()\n",
    "print(f\"\\nQuestion Mean-Match Accuracy: {acc}\")\n",
    "\n",
    "acc, cm = faq.cross_match_test()\n",
    "print(f\"\\nQuestion Cross-Match Accuracy: {acc}\")"
   ]
  },
  {
   "cell_type": "code",
   "execution_count": 5,
   "metadata": {},
   "outputs": [
    {
     "data": {
      "text/plain": [
       "{'Jaké jsou možnosti podání přihlášky průmyslového vzoru? ': ['51', '49'],\n",
       " 'Kdo může podat přihlášku průmyslového vzoru?': ['52', '49'],\n",
       " 'Kdo může podat přihlášku užitného vzoru?': ['61', '59'],\n",
       " 'Jak mohu objednat rešeršní služby Úřadu?': ['65', '45'],\n",
       " 'Jak dlouho trvá zpracování rešerše?': ['65', '45', '74'],\n",
       " 'Co znamená kvalifikované zveřejnění technického řešení?': ['68', '58']}"
      ]
     },
     "execution_count": 5,
     "metadata": {},
     "output_type": "execute_result"
    }
   ],
   "source": [
    "# Ambiguous matches\n",
    "path_to_save = \"780_upv_questions/same_question_different_answers.json\"\n",
    "faq.get_same_question_different_answer_pairs(save_path=path_to_save)"
   ]
  },
  {
   "cell_type": "code",
   "execution_count": 6,
   "metadata": {},
   "outputs": [
    {
     "name": "stdout",
     "output_type": "stream",
     "text": [
      "(788, 79)\n",
      "(788,)\n",
      "41     Na jaké stránce jsou uvedeny nejdůležitější pr...\n",
      "399    Kde mohu najít právní předpisy týkající se pop...\n",
      "Name: question, dtype: object\n"
     ]
    }
   ],
   "source": [
    "faq.get_most_confused_questions(cos_sim_threshold=0.85) # with mean-match"
   ]
  },
  {
   "cell_type": "code",
   "execution_count": 7,
   "metadata": {},
   "outputs": [
    {
     "name": "stdout",
     "output_type": "stream",
     "text": [
      "(19, 78) 3\n",
      "(19, 55) 3\n",
      "(29, 78) 3\n",
      "(30, 55) 3\n",
      "(31, 69) 3\n",
      "(34, 33) 5\n",
      "(36, 57) 5\n",
      "(43, 47) 3\n",
      "(45, 55) 3\n",
      "(49, 59) 3\n",
      "(53, 62) 4\n",
      "(54, 76) 3\n",
      "(58, 68) 3\n",
      "(64, 40) 4\n",
      "(65, 55) 3\n",
      "(77, 21) 3\n",
      "['19:78', '19:55', '29:78', '30:55', '31:69', '34:33', '36:57', '43:47', '45:55', '49:59', '53:62', '54:76', '58:68', '64:40', '65:55', '77:21']\n"
     ]
    }
   ],
   "source": [
    "path_to_save = \"780_upv_questions/most_missclassified_class_pairs\"\n",
    "faq.get_most_misclassified_class_pairs(n_of_common_misses=3, save_path=path_to_save)"
   ]
  },
  {
   "cell_type": "code",
   "execution_count": 172,
   "metadata": {},
   "outputs": [],
   "source": [
    "questions_xlsx = \"780_upv_questions/expanded_data_all2.xlsx\"\n",
    "# questions_xlsx = \"upv_faq/Q50_questions.xlsx\"\n",
    "c = TFIDF_Classifier(questions_xlsx)"
   ]
  },
  {
   "cell_type": "code",
   "execution_count": 173,
   "metadata": {},
   "outputs": [
    {
     "name": "stdout",
     "output_type": "stream",
     "text": [
      "78\n",
      " jaké třídící systémi se využívají při rešerších ? jaké třídící systémi lze využít pro provádění efektivní rešerš technických řešení ? které třídící systémi se aplikují v praxi při provádění rešerší ochranných známek ? jaké třídící systémi jsou vhodné pro rešerši průmyslových vzorů ? jaké třídící systémi je možné využít při rešerši ochranných známek a průmyslových vzorů ? jaké mezinárodní třídící systémi se používají pro efektivní provádění rešerší ? kde lze najít odkazi na jednotlivé třídníki , které se využívají při provádění rešerší ? jaké jsou základní třídící systémi používané při rešerších ? jaká mezinárodní třídění se využívají pro efektivní provádění rešerší ? jaké třídící systémi můžu používat při provádění rešerší v oblasti technických řešení , ochranných známek a průmyslových vzorů ?\n",
      "TFIDF matrix shape: (79, 1162)\n"
     ]
    }
   ],
   "source": [
    "test_data = c.structure_data(test_data_percent=0.1)\n",
    "\n",
    "c.get_TFIDF_matrix()"
   ]
  },
  {
   "cell_type": "code",
   "execution_count": 174,
   "metadata": {},
   "outputs": [
    {
     "data": {
      "text/plain": [
       "73"
      ]
     },
     "execution_count": 174,
     "metadata": {},
     "output_type": "execute_result"
    }
   ],
   "source": [
    "c.classify_sentence(\"Co by nastalo kdyby patent byl zrušen?\")"
   ]
  },
  {
   "cell_type": "code",
   "execution_count": 175,
   "metadata": {},
   "outputs": [
    {
     "name": "stdout",
     "output_type": "stream",
     "text": [
      "Got right: 0.48717948717948717\n"
     ]
    }
   ],
   "source": [
    "c.classify_test_sentences_list(test_data)"
   ]
  }
 ],
 "metadata": {
  "kernelspec": {
   "display_name": "my_src",
   "language": "python",
   "name": "python3"
  },
  "language_info": {
   "codemirror_mode": {
    "name": "ipython",
    "version": 3
   },
   "file_extension": ".py",
   "mimetype": "text/x-python",
   "name": "python",
   "nbconvert_exporter": "python",
   "pygments_lexer": "ipython3",
   "version": "3.10.6"
  },
  "orig_nbformat": 4
 },
 "nbformat": 4,
 "nbformat_minor": 2
}
