{
 "cells": [
  {
   "cell_type": "code",
   "execution_count": 5,
   "metadata": {},
   "outputs": [
    {
     "name": "stdout",
     "output_type": "stream",
     "text": [
      "The autoreload extension is already loaded. To reload it, use:\n",
      "  %reload_ext autoreload\n"
     ]
    }
   ],
   "source": [
    "import fasttext\n",
    "import json\n",
    "from faq50_adapted import FAQ, extract_word_probs\n",
    "from topic_word_probs import *\n",
    "from tfidf_classifier import TFIDF_Classifier\n",
    "from cs_lemmatizer import *\n",
    "\n",
    "\n",
    "%load_ext autoreload\n",
    "%autoreload 2"
   ]
  },
  {
   "cell_type": "code",
   "execution_count": 6,
   "metadata": {},
   "outputs": [
    {
     "name": "stderr",
     "output_type": "stream",
     "text": [
      "Warning : `load_model` does not return WordVectorModel or SupervisedModel any more, but a `FastText` object which is very similar.\n"
     ]
    }
   ],
   "source": [
    "model_path = \"models/cc.cs.300.bin\"\n",
    "model = fasttext.load_model(model_path)"
   ]
  },
  {
   "cell_type": "markdown",
   "metadata": {},
   "source": [
    "### Tests:"
   ]
  },
  {
   "cell_type": "code",
   "execution_count": 7,
   "metadata": {},
   "outputs": [],
   "source": [
    "path_to_q = \"upv_faq/Q78_questions.xlsx\"\n",
    "path_to_a = \"upv_faq/Q78_answers_no_tags.xlsx\"\n",
    "\n",
    "path_to_save = \"780_upv_questions/w_probs_in_q_and_a.json\"\n",
    "probs, n_words = count_word_probs_in_corpuses(path_to_save, path_to_questions=path_to_q, path_to_answers=path_to_a)\n",
    "\n",
    "# with open(path_to_save, \"r\") as wp_file:\n",
    "#     probs = json.load(wp_file)\n",
    "\n",
    "# print(dict(sorted(probs.items(), key=lambda item: -item[1])))"
   ]
  },
  {
   "cell_type": "code",
   "execution_count": 8,
   "metadata": {},
   "outputs": [],
   "source": [
    "q_xslx = \"upv_faq/Q78_questions.xlsx\"\n",
    "a_xslx = \"upv_faq/Q78_answers_no_tags.xlsx\"\n",
    "\n",
    "faq = FAQ(model, q_xslx, a_xslx, probs=probs, alpha=0.03, rm_stop_words=True, lemm=True)"
   ]
  },
  {
   "cell_type": "code",
   "execution_count": 9,
   "metadata": {},
   "outputs": [
    {
     "name": "stdout",
     "output_type": "stream",
     "text": [
      "\n",
      "Question Cross-Match Accuracy: 1st: 0.442, 2nd: 0.132\n",
      "\n",
      "Question Mean-Match Accuracy: 1st: 0.697, 2nd: 0.131\n"
     ]
    }
   ],
   "source": [
    "acc, acc_sec = faq.cross_match_test()\n",
    "print(f\"\\nQuestion Cross-Match Accuracy: 1st: {round(acc, 3)}, 2nd: {round(acc_sec, 3)}\")\n",
    "\n",
    "acc, acc_sec = faq.mean_match_test()\n",
    "print(f\"\\nQuestion Mean-Match Accuracy: 1st: {round(acc, 3)}, 2nd: {round(acc_sec, 3)}\")"
   ]
  },
  {
   "cell_type": "markdown",
   "metadata": {},
   "source": [
    "### Mean match test without inclusion of tested question:"
   ]
  },
  {
   "cell_type": "code",
   "execution_count": 11,
   "metadata": {},
   "outputs": [
    {
     "name": "stdout",
     "output_type": "stream",
     "text": [
      "\u001b[1m1st right: 0.48 \u001b[0m\n",
      "2nd right: 0.138\n",
      "3rd right: 0.072\n",
      "-> 0.69\n"
     ]
    }
   ],
   "source": [
    "f, s, t = faq.mean_match_test_disjunctive()\n",
    "print(f\"\\033[1m1st right: {f} \\033[0m\")\n",
    "print(f\"2nd right: {s}\\n3rd right: {t}\\n-> {round(f+s+t, 3)}\")"
   ]
  },
  {
   "cell_type": "code",
   "execution_count": 12,
   "metadata": {},
   "outputs": [],
   "source": [
    "# pouze words from questions:\n",
    "probs, n_words = count_word_probs_in_corpuses(path_to_save, path_to_questions=path_to_q, path_to_answers=None)\n",
    "# histogram_of_words(probs, n_words)"
   ]
  },
  {
   "cell_type": "code",
   "execution_count": 13,
   "metadata": {},
   "outputs": [
    {
     "data": {
      "text/plain": [
       "['rešerše', 'přihlasit', 'patentem']"
      ]
     },
     "execution_count": 13,
     "metadata": {},
     "output_type": "execute_result"
    }
   ],
   "source": [
    "LMTZR.remove_stop_words_from_sentence([\"rešerše\", \"mezi\", \"jsem\", \"přihlasit\", \"jak\", \"patentem\"])"
   ]
  },
  {
   "cell_type": "markdown",
   "metadata": {},
   "source": [
    "## Weighting with TF-IDF"
   ]
  },
  {
   "cell_type": "code",
   "execution_count": 14,
   "metadata": {},
   "outputs": [],
   "source": [
    "path_to_q = \"upv_faq/Q78_questions.xlsx\"\n",
    "path_to_a = \"upv_faq/Q78_answers_no_tags.xlsx\"\n",
    "\n",
    "path_to_save = \"780_upv_questions/w_probs_in_q_and_a.json\"\n",
    "# probs_old, n_words = count_word_probs_in_corpuses(path_to_save, path_to_questions=path_to_q, path_to_answers=None)\n",
    "\n",
    "c = TFIDF_Classifier(path_to_q)\n",
    "test_data = c.structure_data(test_data_percent=1) \n",
    "tfidf_matrix, feat_names = c.get_TFIDF_matrix()\n",
    "probs = get_TFIDF_threshold_probabilities(tfidf_matrix, feat_names)\n",
    "\n",
    "q_xslx = \"upv_faq/Q78_questions.xlsx\"\n",
    "a_xslx = \"upv_faq/Q78_answers.xlsx\""
   ]
  },
  {
   "cell_type": "code",
   "execution_count": 15,
   "metadata": {},
   "outputs": [
    {
     "name": "stdout",
     "output_type": "stream",
     "text": [
      "\n",
      "Question Cross-Match Accuracy: 1st: 0.588, 2nd: 0.115\n",
      "\n",
      "\u001b[1m1st right: 0.5 \u001b[0m\n",
      "2nd right: 0.145\n",
      "3rd right: 0.074\n",
      "-> 0.719\n"
     ]
    }
   ],
   "source": [
    "\"\"\" prev best results:\n",
    "0.471, _ : alpha=0.23\n",
    "\n",
    "1st right: 0.481 \n",
    "2nd right: 0.135\n",
    "3rd right: 0.065\n",
    "-> 0.681 : alpha=0.41\n",
    "\"\"\"\n",
    "faq = FAQ(model, q_xslx, a_xslx, \n",
    "          probs=probs, \n",
    "          alpha=0.5, \n",
    "          rm_stop_words=True, \n",
    "          lemm=True,\n",
    "          tfidf_weighting=True)\n",
    "\n",
    "acc, acc_sec = faq.cross_match_test()\n",
    "print(f\"\\nQuestion Cross-Match Accuracy: 1st: {round(acc, 3)}, 2nd: {round(acc_sec, 3)}\")\n",
    "\n",
    "# disjunctive, but still the question is included to tfidf matrix...\n",
    "f, s, t = faq.mean_match_test_disjunctive()\n",
    "print(f\"\\n\\033[1m1st right: {f} \\033[0m\")\n",
    "print(f\"2nd right: {s}\\n3rd right: {t}\\n-> {round(f+s+t, 3)}\")"
   ]
  },
  {
   "cell_type": "code",
   "execution_count": 117,
   "metadata": {},
   "outputs": [
    {
     "name": "stdout",
     "output_type": "stream",
     "text": [
      "\n",
      "Question Cross-Match Disj Accuracy: 1st: 0.547, 2nd: 0.0\n"
     ]
    }
   ],
   "source": [
    "# ~ 4 minutes\n",
    "acc, acc_sec = faq.cross_match_test_tfidf_disj()\n",
    "print(f\"\\nQuestion Cross-Match Disj Accuracy: 1st: {round(acc, 3)}, 2nd: {round(acc_sec, 3)}\")"
   ]
  },
  {
   "cell_type": "code",
   "execution_count": 107,
   "metadata": {},
   "outputs": [
    {
     "name": "stdout",
     "output_type": "stream",
     "text": [
      "\n",
      "\u001b[1m1st right: 0.5 \u001b[0m\n",
      "2nd right: 0.142\n",
      "3rd right: 0.071\n",
      "-> 0.713\n"
     ]
    }
   ],
   "source": [
    "# ~ 2 minutes\n",
    "faq = FAQ(model, q_xslx, a_xslx, probs=probs, alpha=0.3, rm_stop_words=True, lemm=True,\n",
    "          tfidf_weighting=True)\n",
    "f, s, t = faq.mean_match_test_disjunctive(leave_one_out_also_tfidf=True)\n",
    "print(f\"\\n\\033[1m1st right: {f} \\033[0m\")\n",
    "print(f\"2nd right: {s}\\n3rd right: {t}\\n-> {round(f+s+t, 3)}\")"
   ]
  },
  {
   "cell_type": "markdown",
   "metadata": {},
   "source": [
    "## Confused sentences:"
   ]
  },
  {
   "cell_type": "code",
   "execution_count": 8,
   "metadata": {},
   "outputs": [
    {
     "name": "stdout",
     "output_type": "stream",
     "text": [
      "Same question with different classes:\n",
      "\n",
      "Q: Jaký je hlavní rozdíl mezi patentem a užitným vzorem? It's idx= 329 , true_class= 33\n",
      "Q_argmax: Jaké jsou hlavní rozdíly mezi užitným vzorem a patentem? It's idx=  341 , true_class= 34\n",
      "\n",
      "Q: Jaké jsou hlavní rozdíly mezi užitným vzorem a patentem? It's idx= 341 , true_class= 34\n",
      "Q_argmax: Jaký je hlavní rozdíl mezi patentem a užitným vzorem? It's idx=  329 , true_class= 33\n",
      "\n",
      "Q: Jaké jsou možnosti podání přihlášky průmyslového vzoru?  It's idx= 512 , true_class= 51\n",
      "Q_argmax: Jaké jsou možnosti podání přihlášky průmyslového vzoru? It's idx=  490 , true_class= 49\n",
      "\n",
      "Q: Kdo může podat přihlášku průmyslového vzoru? It's idx= 519 , true_class= 52\n",
      "Q_argmax: Kdo může podat přihlášku průmyslového vzoru? It's idx=  492 , true_class= 49\n",
      "\n",
      "Q: Jak mohu objednat rešeršní služby na Úřadu? It's idx= 550 , true_class= 55\n",
      "Q_argmax: Jak mohu objednat rešeršní služby Úřadu? It's idx=  449 , true_class= 45\n",
      "\n",
      "Q: Kdo může podat přihlášku užitného vzoru? It's idx= 592 , true_class= 59\n",
      "Q_argmax: Jak mohu podat přihlášku užitného vzoru? It's idx=  589 , true_class= 59\n",
      "\n",
      "Q: Kdo může podat přihlášku užitného vzoru? It's idx= 609 , true_class= 61\n",
      "Q_argmax: Jak mohu podat přihlášku užitného vzoru? It's idx=  589 , true_class= 59\n",
      "\n",
      "Q: Jak mohu objednat rešeršní služby Úřadu? It's idx= 653 , true_class= 65\n",
      "Q_argmax: Jak mohu objednat rešeršní služby Úřadu? It's idx=  449 , true_class= 45\n",
      "\n",
      "Q: Jak dlouho trvá zpracování rešerše? It's idx= 655 , true_class= 65\n",
      "Q_argmax: Jak dlouho trvá zpracování rešerše? It's idx=  455 , true_class= 45\n",
      "\n",
      "Q: Co znamená kvalifikované zveřejnění technického řešení? It's idx= 686 , true_class= 68\n",
      "Q_argmax: Co znamená kvalifikované zveřejnění technického řešení? It's idx=  585 , true_class= 58\n",
      "\n",
      "Q: Jak dlouho trvá zpracování rešerše? It's idx= 744 , true_class= 74\n",
      "Q_argmax: Jak dlouho trvá zpracování rešerše? It's idx=  455 , true_class= 45\n",
      "\n",
      "Q: Jakým způsobem lze podat objednávku na rešeršní službu? It's idx= 748 , true_class= 74\n",
      "Q_argmax: Jakým způsobem lze podat objednávku na rešeršní služby? It's idx=  552 , true_class= 55\n"
     ]
    },
    {
     "data": {
      "text/plain": [
       "{'Jaký je hlavní rozdíl mezi patentem a užitným vzorem?': ['33', '34'],\n",
       " 'Jaké jsou hlavní rozdíly mezi užitným vzorem a patentem?': ['34', '33'],\n",
       " 'Jaké jsou možnosti podání přihlášky průmyslového vzoru? ': ['51', '49'],\n",
       " 'Kdo může podat přihlášku průmyslového vzoru?': ['52', '49'],\n",
       " 'Jak mohu objednat rešeršní služby na Úřadu?': ['55', '45'],\n",
       " 'Kdo může podat přihlášku užitného vzoru?': ['59', '61'],\n",
       " 'Jak mohu objednat rešeršní služby Úřadu?': ['65', '45'],\n",
       " 'Jak dlouho trvá zpracování rešerše?': ['65', '45', '74'],\n",
       " 'Co znamená kvalifikované zveřejnění technického řešení?': ['68', '58'],\n",
       " 'Jakým způsobem lze podat objednávku na rešeršní službu?': ['74', '55']}"
      ]
     },
     "execution_count": 8,
     "metadata": {},
     "output_type": "execute_result"
    }
   ],
   "source": [
    "# Ambiguous matches\n",
    "path_to_save = \"780_upv_questions/same_question_different_answers.json\"\n",
    "faq.get_same_question_different_answer_pairs(save_path=path_to_save)"
   ]
  },
  {
   "cell_type": "code",
   "execution_count": 9,
   "metadata": {},
   "outputs": [
    {
     "name": "stdout",
     "output_type": "stream",
     "text": [
      "(788, 79)\n",
      "(788,)\n",
      "41     Na jaké stránce jsou uvedeny nejdůležitější pr...\n",
      "399    Kde mohu najít právní předpisy týkající se pop...\n",
      "400    Jaké jsou nejdůležitější právní předpisy týkaj...\n",
      "Name: question, dtype: object\n"
     ]
    }
   ],
   "source": [
    "faq.get_most_confused_questions(cos_sim_threshold=0.85) # with mean-match"
   ]
  },
  {
   "cell_type": "code",
   "execution_count": 10,
   "metadata": {},
   "outputs": [
    {
     "name": "stdout",
     "output_type": "stream",
     "text": [
      "(19, 45) 4\n",
      "(26, 24) 3\n",
      "(26, 25) 3\n",
      "(30, 55) 4\n",
      "(31, 69) 4\n",
      "(33, 34) 4\n",
      "(35, 65) 3\n",
      "(36, 57) 5\n",
      "(40, 4) 3\n",
      "(42, 44) 3\n",
      "(43, 51) 3\n",
      "(43, 47) 3\n",
      "(45, 55) 3\n",
      "(49, 51) 5\n",
      "(52, 51) 4\n",
      "(53, 62) 4\n",
      "(58, 68) 6\n",
      "(65, 55) 3\n",
      "(71, 51) 3\n",
      "(77, 3) 5\n",
      "['19:45', '26:24', '26:25', '30:55', '31:69', '33:34', '35:65', '36:57', '40:4', '42:44', '43:51', '43:47', '45:55', '49:51', '52:51', '53:62', '58:68', '65:55', '71:51', '77:3']\n"
     ]
    }
   ],
   "source": [
    "path_to_save = \"780_upv_questions/most_missclassified_class_pairs\"\n",
    "faq.get_most_misclassified_class_pairs(n_of_common_misses=3, save_path=path_to_save)"
   ]
  },
  {
   "cell_type": "code",
   "execution_count": 3,
   "metadata": {},
   "outputs": [],
   "source": [
    "questions_xlsx = \"780_upv_questions/expanded_data_all2.xlsx\"\n",
    "# questions_xlsx = \"upv_faq/Q50_questions.xlsx\"\n",
    "c = TFIDF_Classifier(questions_xlsx)"
   ]
  },
  {
   "cell_type": "code",
   "execution_count": 4,
   "metadata": {},
   "outputs": [],
   "source": [
    "test_data = c.structure_data(test_data_percent=0.1) \n",
    "\n",
    "c.get_TFIDF_matrix()"
   ]
  },
  {
   "cell_type": "code",
   "execution_count": 5,
   "metadata": {},
   "outputs": [
    {
     "data": {
      "text/plain": [
       "73"
      ]
     },
     "execution_count": 5,
     "metadata": {},
     "output_type": "execute_result"
    }
   ],
   "source": [
    "c.classify_sentence(\"Co by nastalo kdyby patent byl zrušen?\")"
   ]
  },
  {
   "cell_type": "code",
   "execution_count": 6,
   "metadata": {},
   "outputs": [
    {
     "name": "stdout",
     "output_type": "stream",
     "text": [
      "Got right: 0.5128205128205128\n"
     ]
    }
   ],
   "source": [
    "c.classify_test_sentences_list(test_data)"
   ]
  },
  {
   "cell_type": "code",
   "execution_count": 7,
   "metadata": {},
   "outputs": [
    {
     "name": "stdout",
     "output_type": "stream",
     "text": [
      "Got right: 0.7982233502538071\n"
     ]
    }
   ],
   "source": [
    "test_data = c.structure_data(test_data_percent=1) # without removal from train data\n",
    "c.get_TFIDF_matrix()\n",
    "c.classify_test_sentences_list(test_data)"
   ]
  },
  {
   "cell_type": "code",
   "execution_count": 8,
   "metadata": {},
   "outputs": [
    {
     "name": "stderr",
     "output_type": "stream",
     "text": [
      "0it [00:00, ?it/s]"
     ]
    },
    {
     "name": "stderr",
     "output_type": "stream",
     "text": [
      "788it [01:00, 13.04it/s]\n"
     ]
    },
    {
     "data": {
      "text/plain": [
       "0.522"
      ]
     },
     "execution_count": 8,
     "metadata": {},
     "output_type": "execute_result"
    }
   ],
   "source": [
    "c.leave_one_out_test()"
   ]
  }
 ],
 "metadata": {
  "kernelspec": {
   "display_name": "my_src",
   "language": "python",
   "name": "python3"
  },
  "language_info": {
   "codemirror_mode": {
    "name": "ipython",
    "version": 3
   },
   "file_extension": ".py",
   "mimetype": "text/x-python",
   "name": "python",
   "nbconvert_exporter": "python",
   "pygments_lexer": "ipython3",
   "version": "3.10.6"
  },
  "orig_nbformat": 4
 },
 "nbformat": 4,
 "nbformat_minor": 2
}
