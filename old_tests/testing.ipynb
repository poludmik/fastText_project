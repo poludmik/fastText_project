{
 "cells": [
  {
   "cell_type": "code",
   "execution_count": 1,
   "metadata": {
    "collapsed": false,
    "ExecuteTime": {
     "end_time": "2023-07-01T13:53:11.746109800Z",
     "start_time": "2023-07-01T13:53:10.249709900Z"
    }
   },
   "outputs": [
    {
     "name": "stderr",
     "output_type": "stream",
     "text": [
      "[nltk_data] Downloading package punkt to /home/micha/nltk_data...\n",
      "[nltk_data]   Package punkt is already up-to-date!\n"
     ]
    }
   ],
   "source": [
    "from vec_math import *\n",
    "nltk.download('punkt')\n",
    "\n",
    "%load_ext autoreload\n",
    "%autoreload 2"
   ]
  },
  {
   "cell_type": "markdown",
   "metadata": {
    "collapsed": false
   },
   "source": [
    "# English tests"
   ]
  },
  {
   "cell_type": "code",
   "execution_count": 2,
   "metadata": {
    "collapsed": false,
    "ExecuteTime": {
     "end_time": "2023-07-01T13:53:13.921403300Z",
     "start_time": "2023-07-01T13:53:11.744104Z"
    }
   },
   "outputs": [
    {
     "name": "stderr",
     "output_type": "stream",
     "text": [
      "Warning : `load_model` does not return WordVectorModel or SupervisedModel any more, but a `FastText` object which is very similar.\n"
     ]
    },
    {
     "name": "stdout",
     "output_type": "stream",
     "text": [
      "(100,)\n",
      "[(0.8522698879241943, 'megadeth'), (0.7971707582473755, 'pantera'), (0.7917349934577942, 'deftones'), (0.7859595417976379, 'frontman'), (0.7821397185325623, 'mustaine'), (0.7773374915122986, 'sepultura'), (0.7772756218910217, 'hetfield'), (0.7724277377128601, 'radiohead'), (0.7667999863624573, 'ozzy'), (0.7642661333084106, 'band')]\n",
      "\n",
      "scipy cosine: 0.40885651111602783\n",
      "numpy cosine: 0.40885654\n"
     ]
    }
   ],
   "source": [
    "# model = fasttext.train_unsupervised('../data/fil9')\n",
    "# model = fasttext.train_unsupervised('data/fil9', minn=2, maxn=5, dim=300)\n",
    "# model.save_model(\"models/fil9.bin\")\n",
    "\n",
    "model = fasttext.load_model(\"models/fil9.bin\")\n",
    "\n",
    "x = \"metallica\"\n",
    "y = \"abba\"\n",
    "vec1 = model.get_word_vector(x)\n",
    "vec2 = model.get_word_vector(y)\n",
    "\n",
    "print(vec1.shape)\n",
    "print(model.get_nearest_neighbors(x), end=\"\\n\\n\")\n",
    "\n",
    "# print(model.get_analogies(\"berlin\", \"germany\", \"czechia\"))\n",
    "\n",
    "print(\"scipy cosine:\", cosine_sim_scipy(vec1, vec2))\n",
    "print(\"numpy cosine:\", cosine_sim_numpy(vec1, vec2))"
   ]
  },
  {
   "cell_type": "markdown",
   "metadata": {
    "collapsed": false
   },
   "source": [
    "# Czech tests"
   ]
  },
  {
   "cell_type": "code",
   "execution_count": null,
   "metadata": {
    "collapsed": false,
    "is_executing": true,
    "ExecuteTime": {
     "start_time": "2023-07-01T13:53:17.608674800Z"
    }
   },
   "outputs": [],
   "source": [
    "model = fasttext.load_model('models/cc.cs.300.bin')"
   ]
  },
  {
   "cell_type": "code",
   "execution_count": 4,
   "metadata": {
    "ExecuteTime": {
     "end_time": "2023-06-27T16:22:57.906188500Z",
     "start_time": "2023-06-27T16:22:57.745353Z"
    },
    "collapsed": false
   },
   "outputs": [
    {
     "name": "stdout",
     "output_type": "stream",
     "text": [
      "(300,)\n"
     ]
    }
   ],
   "source": [
    "print(model.get_word_vector(\"univerzita\").shape)"
   ]
  },
  {
   "cell_type": "markdown",
   "metadata": {
    "collapsed": false
   },
   "source": [
    "## get_sentence_vector() vs average of word embeddings"
   ]
  },
  {
   "cell_type": "code",
   "execution_count": 5,
   "metadata": {
    "ExecuteTime": {
     "end_time": "2023-06-27T16:35:10.759368700Z",
     "start_time": "2023-06-27T16:35:10.701480500Z"
    },
    "collapsed": false
   },
   "outputs": [],
   "source": [
    "sent1 = \"Main purpose of this thesis is to show the functionality.\"\n",
    "sent2_similar = \"The primary objective of a publication was to demonstrate the performance.\"\n",
    "sent3_different = \"Another problem with this configuration was to Cook some delicious dinner!\"\n",
    "sent4_absurd = \"Amidst the lush jungle, a majestic tiger stealthily prowled through the undergrowth.\""
   ]
  },
  {
   "cell_type": "code",
   "execution_count": 6,
   "metadata": {
    "ExecuteTime": {
     "end_time": "2023-06-27T16:43:09.585484700Z",
     "start_time": "2023-06-27T16:43:09.532498300Z"
    },
    "collapsed": false
   },
   "outputs": [
    {
     "name": "stdout",
     "output_type": "stream",
     "text": [
      "Similar: 0.867\n",
      "Different: 0.796\n",
      "Absurd: 0.695\n"
     ]
    }
   ],
   "source": [
    "# with fasttext.get_sentence_vector()\n",
    "similarity12 = cosine_sim_scipy(model.get_sentence_vector(sent1), model.get_sentence_vector(sent2_similar))\n",
    "similarity13 = cosine_sim_scipy(model.get_sentence_vector(sent1), model.get_sentence_vector(sent3_different))\n",
    "similarity14 = cosine_sim_scipy(model.get_sentence_vector(sent1), model.get_sentence_vector(sent4_absurd))\n",
    "\n",
    "print(\"Similar:\", round(similarity12, 3))\n",
    "print(\"Different:\", round(similarity13, 3))\n",
    "print(\"Absurd:\", round(similarity14, 3))"
   ]
  },
  {
   "cell_type": "code",
   "execution_count": 7,
   "metadata": {
    "ExecuteTime": {
     "end_time": "2023-06-27T16:43:16.603280100Z",
     "start_time": "2023-06-27T16:43:16.557314100Z"
    },
    "collapsed": false
   },
   "outputs": [
    {
     "name": "stdout",
     "output_type": "stream",
     "text": [
      "Similar: 0.922\n",
      "Different: 0.798\n",
      "Absurd: 0.769\n"
     ]
    }
   ],
   "source": [
    "# just take the average of word embeddings\n",
    "similarity12 = cosine_sim_scipy(get_average_vector(model, sent1), get_average_vector(model, sent2_similar))\n",
    "similarity13 = cosine_sim_scipy(get_average_vector(model, sent1), get_average_vector(model, sent3_different))\n",
    "similarity14 = cosine_sim_scipy(get_average_vector(model, sent1), get_average_vector(model, sent4_absurd))\n",
    "\n",
    "print(\"Similar:\", round(similarity12, 3))\n",
    "print(\"Different:\", round(similarity13, 3))\n",
    "print(\"Absurd:\", round(similarity14, 3))"
   ]
  },
  {
   "cell_type": "markdown",
   "metadata": {
    "collapsed": false
   },
   "source": [
    "## Testovácí otázky"
   ]
  },
  {
   "cell_type": "code",
   "execution_count": 8,
   "metadata": {
    "ExecuteTime": {
     "end_time": "2023-06-29T10:05:53.591214200Z",
     "start_time": "2023-06-29T10:05:53.411196900Z"
    },
    "collapsed": false
   },
   "outputs": [
    {
     "name": "stdout",
     "output_type": "stream",
     "text": [
      "     Unnamed: 0                                           question  class\n",
      "0             0                          Co je duševní vlastnictví      0\n",
      "1             1                     Co známená duševní vlastnictví      0\n",
      "2             2                             Duševní vlastnictví je      0\n",
      "3             3                     Definice duševního vlastnictví      0\n",
      "4             4                  Jak definovat duševní vlastnictví      0\n",
      "..          ...                                                ...    ...\n",
      "557         557      Doba řízení národní přihlášky ochranné známky     48\n",
      "558         558  V jakém časovém horizontu po registraci ochran...     48\n",
      "559         559  Za jak dlouho bude národní ochranná známka zar...     48\n",
      "560         560     Uplynutí doby platnosti zápisu ochranné známky     49\n",
      "561         561  Upozorňuje Úřad na uplynutí doby platnosti záp...     49\n",
      "\n",
      "[562 rows x 3 columns]\n"
     ]
    }
   ],
   "source": [
    "df = pd.read_excel(\"../data/Q50_questions.xlsx\")\n",
    "print(df)"
   ]
  },
  {
   "cell_type": "code",
   "execution_count": 9,
   "metadata": {
    "ExecuteTime": {
     "end_time": "2023-06-27T21:43:45.341577Z",
     "start_time": "2023-06-27T21:43:45.181058Z"
    },
    "collapsed": false
   },
   "outputs": [
    {
     "name": "stdout",
     "output_type": "stream",
     "text": [
      "(33, 'Kdo provádí oceňování vynálezů')\n"
     ]
    }
   ],
   "source": [
    "sent = \"Kdo provádí výběr výroků\" # class 33\n",
    "print(classify_one_sentence(df, model, sent))"
   ]
  },
  {
   "cell_type": "markdown",
   "metadata": {
    "collapsed": false
   },
   "source": [
    "### Leave-one-out cross-validation\n",
    "Classify one testing sample on other training data and compute empirical error."
   ]
  },
  {
   "cell_type": "code",
   "execution_count": 10,
   "metadata": {
    "ExecuteTime": {
     "end_time": "2023-06-29T10:29:36.823326900Z",
     "start_time": "2023-06-29T10:29:36.799886700Z"
    },
    "collapsed": false
   },
   "outputs": [],
   "source": [
    "x_train, x_test = pd_df_to_train_test_sets(df, test_percentage=1)"
   ]
  },
  {
   "cell_type": "code",
   "execution_count": 11,
   "metadata": {
    "ExecuteTime": {
     "end_time": "2023-06-29T10:30:13.311653100Z",
     "start_time": "2023-06-29T10:29:37.319771900Z"
    },
    "collapsed": false
   },
   "outputs": [
    {
     "name": "stdout",
     "output_type": "stream",
     "text": [
      "Test error: 0.104982206405694\n"
     ]
    }
   ],
   "source": [
    "# Classify by nearest neighbour (does not consider the same question as the classified one)\n",
    "print(\"Test error:\", get_classification_error(df, model, x_test))"
   ]
  },
  {
   "cell_type": "code",
   "execution_count": 12,
   "metadata": {
    "ExecuteTime": {
     "end_time": "2023-06-29T10:06:34.931263500Z",
     "start_time": "2023-06-29T10:06:34.814015300Z"
    },
    "collapsed": false
   },
   "outputs": [
    {
     "name": "stdout",
     "output_type": "stream",
     "text": [
      "['Obnova', 'Prodloužení platnosti', 'Udržovací poplatky', 'Jak požádat o obnovu nebo prodloužení platnosti u ochranných známek', 'Jak požádat o obnovu nebo prodloužení platnosti u užitných vzorů', 'Jak požádat o obnovu nebo prodloužení platnosti u průmyslových vzorů', 'Jak postupovat při placení udržovacích poplatků u patentů']\n"
     ]
    }
   ],
   "source": [
    "class2question_dict = get_class2questions_dict(df)\n",
    "print(class2question_dict[38])"
   ]
  },
  {
   "cell_type": "code",
   "execution_count": 13,
   "metadata": {
    "ExecuteTime": {
     "end_time": "2023-06-29T10:30:21.429256300Z",
     "start_time": "2023-06-29T10:30:21.362398200Z"
    },
    "collapsed": false
   },
   "outputs": [
    {
     "name": "stdout",
     "output_type": "stream",
     "text": [
      "33\n"
     ]
    }
   ],
   "source": [
    "# Average all questions in one class from training data and classify based on this average\n",
    "# m.get_sentence_vector works better\n",
    "\n",
    "sent = \"Kdo provádí výběr výroků\" # class 33\n",
    "# sent = \"Opis listiny\" # 40\n",
    "# sent = \"Je možné název webových stránek ochránit jako ochrannou známku\" # 47\n",
    "# sent = \"Kde hledat pomoc v případě porušení práv duševního vlastnictví\" # 5\n",
    "print(classify_one_sentence_based_on_average(model, class2question_dict, sent))"
   ]
  },
  {
   "cell_type": "code",
   "execution_count": 14,
   "metadata": {
    "ExecuteTime": {
     "end_time": "2023-06-29T10:30:27.751221100Z",
     "start_time": "2023-06-29T10:30:21.986107800Z"
    },
    "collapsed": false
   },
   "outputs": [
    {
     "name": "stdout",
     "output_type": "stream",
     "text": [
      "Test error: 0.14946619217081847\n"
     ]
    }
   ],
   "source": [
    "print(\"Test error:\", get_classification_error_with_averages(class2question_dict, model, x_test))"
   ]
  },
  {
   "cell_type": "code",
   "execution_count": null,
   "metadata": {},
   "outputs": [],
   "source": []
  }
 ],
 "metadata": {
  "kernelspec": {
   "display_name": "Python 3",
   "language": "python",
   "name": "python3"
  },
  "language_info": {
   "codemirror_mode": {
    "name": "ipython",
    "version": 3
   },
   "file_extension": ".py",
   "mimetype": "text/x-python",
   "name": "python",
   "nbconvert_exporter": "python",
   "pygments_lexer": "ipython3",
   "version": "3.10.6"
  }
 },
 "nbformat": 4,
 "nbformat_minor": 0
}
